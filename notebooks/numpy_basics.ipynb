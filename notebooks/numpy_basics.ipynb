{
 "cells": [
  {
   "cell_type": "code",
   "execution_count": 1,
   "id": "66134d53-62ec-4a70-a054-7ab6a65cb5af",
   "metadata": {},
   "outputs": [
    {
     "data": {
      "text/plain": [
       "'1.26.4'"
      ]
     },
     "execution_count": 1,
     "metadata": {},
     "output_type": "execute_result"
    }
   ],
   "source": [
    "import numpy as np\n",
    "np.__version__"
   ]
  },
  {
   "cell_type": "code",
   "execution_count": 2,
   "id": "a43d4ae7-6c03-4f08-bf18-7fec838ed3ae",
   "metadata": {},
   "outputs": [
    {
     "name": "stdout",
     "output_type": "stream",
     "text": [
      "a: [1 2 3 4 5] shape: (5,) ndim: 1\n",
      "b:\n",
      " [[1 2 3]\n",
      " [4 5 6]] \n",
      "shape: (2, 3) ndim: 2\n"
     ]
    },
    {
     "data": {
      "text/plain": [
       "(array([[0., 0., 0.],\n",
       "        [0., 0., 0.]], dtype=float32),\n",
       " array([[1, 1],\n",
       "        [1, 1],\n",
       "        [1, 1]], dtype=int32),\n",
       " array([ 0,  2,  4,  6,  8, 10]),\n",
       " array([0.  , 0.25, 0.5 , 0.75, 1.  ]))"
      ]
     },
     "execution_count": 2,
     "metadata": {},
     "output_type": "execute_result"
    }
   ],
   "source": [
    "# From Python list\n",
    "a = np.array([1, 2, 3, 4, 5])\n",
    "# 2D array (matrix)\n",
    "b = np.array([[1, 2, 3],\n",
    "              [4, 5, 6]])\n",
    "\n",
    "print(\"a:\", a, \"shape:\", a.shape, \"ndim:\", a.ndim)\n",
    "print(\"b:\\n\", b, \"\\nshape:\", b.shape, \"ndim:\", b.ndim)\n",
    "\n",
    "# Quick creators\n",
    "z = np.zeros((2, 3), dtype=np.float32)\n",
    "o = np.ones((3, 2), dtype=np.int32)\n",
    "r = np.arange(0, 12, 2)     # 0..10 step 2 → [0 2 4 6 8 10]\n",
    "lin = np.linspace(0, 1, 5)  # 5 points from 0 to 1\n",
    "\n",
    "z, o, r, lin\n"
   ]
  },
  {
   "cell_type": "code",
   "execution_count": 3,
   "id": "41b8f3b6-9686-46e9-aa3e-98a288e14fce",
   "metadata": {},
   "outputs": [
    {
     "name": "stdout",
     "output_type": "stream",
     "text": [
      "m: [ 0  1  2  3  4  5  6  7  8  9 10 11] shape: (12,)\n",
      "m2:\n",
      " [[ 0  1  2  3]\n",
      " [ 4  5  6  7]\n",
      " [ 8  9 10 11]] shape: (3, 4)\n",
      "m3 shape: (2, 2, 3)\n"
     ]
    },
    {
     "data": {
      "text/plain": [
       "(True, True)"
      ]
     },
     "execution_count": 3,
     "metadata": {},
     "output_type": "execute_result"
    }
   ],
   "source": [
    "m = np.arange(12)        # [0..11]\n",
    "m2 = m.reshape(3, 4)     # 3 rows, 4 cols\n",
    "m3 = m.reshape(2, 2, 3)  # 3D\n",
    "\n",
    "print(\"m:\", m, \"shape:\", m.shape)\n",
    "print(\"m2:\\n\", m2, \"shape:\", m2.shape)\n",
    "print(\"m3 shape:\", m3.shape)\n",
    "\n",
    "# Flatten & ravel\n",
    "flat_copy = m2.flatten()   # returns a copy\n",
    "flat_view = m2.ravel()     # returns a view when possible\n",
    "(flat_copy.base is None, flat_view.base is not None)"
   ]
  },
  {
   "cell_type": "code",
   "execution_count": 4,
   "id": "9d4a7a43-a272-40a6-97da-692441a6b4c3",
   "metadata": {},
   "outputs": [
    {
     "name": "stdout",
     "output_type": "stream",
     "text": [
      "[[ 1  2  3  4]\n",
      " [ 5  6  7  8]\n",
      " [ 9 10 11 12]]\n"
     ]
    },
    {
     "data": {
      "text/plain": [
       "(array([1, 2, 3, 4]),\n",
       " array([ 2,  6, 10]),\n",
       " array([[2, 3],\n",
       "        [6, 7]]))"
      ]
     },
     "execution_count": 4,
     "metadata": {},
     "output_type": "execute_result"
    }
   ],
   "source": [
    "x = np.arange(1, 13).reshape(3, 4)\n",
    "print(x)\n",
    "\n",
    "# Basic slicing\n",
    "row0 = x[0, :]        # first row\n",
    "col1 = x[:, 1]        # second column\n",
    "block = x[0:2, 1:3]   # rows 0-1, cols 1-2\n",
    "\n",
    "row0, col1, block\n"
   ]
  },
  {
   "cell_type": "code",
   "execution_count": 5,
   "id": "9b4eac0c-130b-4933-83bd-d47617ba7c98",
   "metadata": {},
   "outputs": [
    {
     "data": {
      "text/plain": [
       "array([0, 2, 4, 6, 8])"
      ]
     },
     "execution_count": 5,
     "metadata": {},
     "output_type": "execute_result"
    }
   ],
   "source": [
    "y = np.arange(10)\n",
    "mask = y % 2 == 0     # even numbers\n",
    "evens = y[mask]\n",
    "evens\n"
   ]
  },
  {
   "cell_type": "code",
   "execution_count": 6,
   "id": "f3e39a39-f986-4857-ad0c-c4e91c91d59c",
   "metadata": {},
   "outputs": [
    {
     "data": {
      "text/plain": [
       "array([[   1,   11,  102, 1003],\n",
       "       [   5,   15,  106, 1007],\n",
       "       [   9,   19,  110, 1011]])"
      ]
     },
     "execution_count": 6,
     "metadata": {},
     "output_type": "execute_result"
    }
   ],
   "source": [
    "M = np.arange(12).reshape(3, 4)\n",
    "v = np.array([1, 10, 100, 1000])  # shape (4,)\n",
    "# Add v to each row of M\n",
    "M_plus_v = M + v\n",
    "M_plus_v\n"
   ]
  },
  {
   "cell_type": "code",
   "execution_count": 7,
   "id": "6c6171c9-a9f3-4d67-8f17-79bc2837893d",
   "metadata": {},
   "outputs": [
    {
     "data": {
      "text/plain": [
       "(array([[  0,   1,   2],\n",
       "        [  3,   4,   5],\n",
       "        [100, 101, 102],\n",
       "        [103, 104, 105]]),\n",
       " array([[  0,   1,   2, 100, 101, 102],\n",
       "        [  3,   4,   5, 103, 104, 105]]))"
      ]
     },
     "execution_count": 7,
     "metadata": {},
     "output_type": "execute_result"
    }
   ],
   "source": [
    "A = np.arange(6).reshape(2, 3)\n",
    "B = np.arange(100, 106).reshape(2, 3)\n",
    "\n",
    "vstacked = np.vstack([A, B])      # shape (4,3)\n",
    "hstacked = np.hstack([A, B])      # shape (2,6)\n",
    "\n",
    "vstacked, hstacked\n"
   ]
  },
  {
   "cell_type": "code",
   "execution_count": 8,
   "id": "863c03b4-4e76-40a9-9026-9236c120aaad",
   "metadata": {},
   "outputs": [
    {
     "data": {
      "text/plain": [
       "(array([[ 58,  64],\n",
       "        [139, 154]]),\n",
       " array([[ 58,  64],\n",
       "        [139, 154]]),\n",
       " (2, 2))"
      ]
     },
     "execution_count": 8,
     "metadata": {},
     "output_type": "execute_result"
    }
   ],
   "source": [
    "# Create compatible shapes\n",
    "P = np.array([[1, 2, 3],\n",
    "              [4, 5, 6]])          # (2,3)\n",
    "Q = np.array([[7,  8],\n",
    "              [9, 10],\n",
    "              [11,12]])            # (3,2)\n",
    "\n",
    "# Matrix multiply: (2,3) @ (3,2) -> (2,2)\n",
    "PQ = P @ Q               # preferred\n",
    "PQ_np = np.matmul(P, Q)  # equivalent\n",
    "\n",
    "PQ, PQ_np, PQ.shape\n"
   ]
  },
  {
   "cell_type": "code",
   "execution_count": 9,
   "id": "ff16547c-7ea3-4f7e-a8fb-bdfbdccb8ac5",
   "metadata": {},
   "outputs": [
    {
     "data": {
      "text/plain": [
       "'Sanity checks passed ✅'"
      ]
     },
     "execution_count": 9,
     "metadata": {},
     "output_type": "execute_result"
    }
   ],
   "source": [
    "# Shape & value sanity checks\n",
    "assert PQ.shape == (2, 2)\n",
    "assert np.allclose(PQ, PQ_np)\n",
    "assert np.array_equal((np.arange(12).reshape(3,4) + np.array([1,10,100,1000])).shape, (3,4))\n",
    "\n",
    "\"Sanity checks passed ✅\"\n"
   ]
  },
  {
   "cell_type": "code",
   "execution_count": 10,
   "id": "81058dce-158d-4d2a-87bf-800c46bbc17c",
   "metadata": {},
   "outputs": [
    {
     "data": {
      "text/plain": [
       "'Saved demo_matrix.npy'"
      ]
     },
     "execution_count": 10,
     "metadata": {},
     "output_type": "execute_result"
    }
   ],
   "source": [
    "np.save(\"demo_matrix.npy\", PQ)     # saves to notebook working dir\n",
    "\"Saved demo_matrix.npy\"\n"
   ]
  },
  {
   "cell_type": "code",
   "execution_count": 1,
   "id": "d5f175aa-51a0-4064-9abe-7c39d2dc7d86",
   "metadata": {},
   "outputs": [
    {
     "name": "stdout",
     "output_type": "stream",
     "text": [
      "Vertical Stack:\n",
      " [[1 2]\n",
      " [3 4]\n",
      " [5 6]\n",
      " [7 8]]\n",
      "Horizontal Stack:\n",
      " [[1 2 5 6]\n",
      " [3 4 7 8]]\n"
     ]
    }
   ],
   "source": [
    "import numpy as np\n",
    "\n",
    "a = np.array([[1, 2], [3, 4]])\n",
    "b = np.array([[5, 6], [7, 8]])\n",
    "\n",
    "# Vertical stack\n",
    "v_stack = np.vstack((a, b))\n",
    "print(\"Vertical Stack:\\n\", v_stack)\n",
    "\n",
    "# Horizontal stack\n",
    "h_stack = np.hstack((a, b))\n",
    "print(\"Horizontal Stack:\\n\", h_stack)\n"
   ]
  },
  {
   "cell_type": "code",
   "execution_count": 2,
   "id": "3b223242-8a17-4a55-bf94-683761ecdb19",
   "metadata": {},
   "outputs": [
    {
     "name": "stdout",
     "output_type": "stream",
     "text": [
      "Elements > 25: [30 40 50]\n",
      "Modified Array: [10 20 99 99 99]\n"
     ]
    }
   ],
   "source": [
    "arr = np.array([10, 20, 30, 40, 50])\n",
    "\n",
    "# Extract elements greater than 25\n",
    "greater_than_25 = arr[arr > 25]\n",
    "print(\"Elements > 25:\", greater_than_25)\n",
    "\n",
    "# Replace elements conditionally\n",
    "arr[arr > 25] = 99\n",
    "print(\"Modified Array:\", arr)\n"
   ]
  },
  {
   "cell_type": "code",
   "execution_count": 3,
   "id": "506626fd-22f9-4944-8126-097341601be5",
   "metadata": {},
   "outputs": [
    {
     "name": "stdout",
     "output_type": "stream",
     "text": [
      "Broadcasted Addition:\n",
      " [[11 22 33]\n",
      " [14 25 36]\n",
      " [17 28 39]]\n"
     ]
    }
   ],
   "source": [
    "# Add a 1D array to each row of a 2D array\n",
    "matrix = np.array([[1, 2, 3],\n",
    "                   [4, 5, 6],\n",
    "                   [7, 8, 9]])\n",
    "\n",
    "vector = np.array([10, 20, 30])\n",
    "\n",
    "result = matrix + vector  # vector gets \"broadcasted\" to each row\n",
    "print(\"Broadcasted Addition:\\n\", result)\n"
   ]
  },
  {
   "cell_type": "code",
   "execution_count": null,
   "id": "c5ee4a1f-8f24-4dd9-9fe9-e5cbb1bd112f",
   "metadata": {},
   "outputs": [],
   "source": []
  }
 ],
 "metadata": {
  "kernelspec": {
   "display_name": "Python 3 (ipykernel)",
   "language": "python",
   "name": "python3"
  },
  "language_info": {
   "codemirror_mode": {
    "name": "ipython",
    "version": 3
   },
   "file_extension": ".py",
   "mimetype": "text/x-python",
   "name": "python",
   "nbconvert_exporter": "python",
   "pygments_lexer": "ipython3",
   "version": "3.10.14"
  }
 },
 "nbformat": 4,
 "nbformat_minor": 5
}
